{
  "cells": [
    {
      "cell_type": "markdown",
      "metadata": {
        "id": "vL8X4lCYoipA"
      },
      "source": [
        "# **Naive Bayes Method (TP073767)**"
      ]
    },
    {
      "cell_type": "code",
      "execution_count": null,
      "metadata": {
        "id": "nzF2lQr9oipD"
      },
      "outputs": [],
      "source": [
        "#Import the Libraries\n",
        "import pandas as pd\n",
        "from sklearn.preprocessing import LabelEncoder, StandardScaler\n",
        "from sklearn.model_selection import train_test_split"
      ]
    },
    {
      "cell_type": "code",
      "execution_count": null,
      "metadata": {
        "id": "Qk7_Fph1oipG"
      },
      "outputs": [],
      "source": [
        "#Load Dataset\n",
        "# Load the KDD Cup 1999 training data\n",
        "url = \"http://kdd.ics.uci.edu/databases/kddcup99/kddcup.data.gz\"\n",
        "column_names = [\n",
        "    \"duration\",\"protocol_type\",\"service\",\"flag\",\"src_bytes\",\"dst_bytes\",\"land\",\"wrong_fragment\",\n",
        "    \"urgent\",\"hot\",\"num_failed_logins\",\"logged_in\",\"num_compromised\",\"root_shell\",\"su_attempted\",\n",
        "    \"num_root\",\"num_file_creations\",\"num_shells\",\"num_access_files\",\"num_outbound_cmds\",\n",
        "    \"is_host_login\",\"is_guest_login\",\"count\",\"srv_count\",\"serror_rate\",\"srv_serror_rate\",\n",
        "    \"rerror_rate\",\"srv_rerror_rate\",\"same_srv_rate\",\"diff_srv_rate\",\"srv_diff_host_rate\",\n",
        "    \"dst_host_count\",\"dst_host_srv_count\",\"dst_host_same_srv_rate\",\"dst_host_diff_srv_rate\",\n",
        "    \"dst_host_same_src_port_rate\",\"dst_host_srv_diff_host_rate\",\"dst_host_serror_rate\",\n",
        "    \"dst_host_srv_serror_rate\",\"dst_host_rerror_rate\",\"dst_host_srv_rerror_rate\",\"label\"\n",
        "]\n",
        "data = pd.read_csv(url, header=None, names=column_names)"
      ]
    },
    {
      "cell_type": "markdown",
      "metadata": {
        "id": "RZk6cBENoipI"
      },
      "source": [
        "# **Logistic Regression Method (TP074301)**"
      ]
    },
    {
      "cell_type": "markdown",
      "metadata": {
        "id": "bnHjN0rAoipJ"
      },
      "source": [
        "## **Import the Libraries**"
      ]
    },
    {
      "cell_type": "code",
      "execution_count": null,
      "metadata": {
        "id": "G_RwHaupoipK"
      },
      "outputs": [],
      "source": [
        "import pandas as pd\n",
        "from sklearn.preprocessing import LabelEncoder, StandardScaler\n",
        "from sklearn.model_selection import train_test_split"
      ]
    },
    {
      "cell_type": "markdown",
      "metadata": {
        "id": "EQIDcZpcoipL"
      },
      "source": [
        "# **Neural Network Method (TP074300)**"
      ]
    },
    {
      "cell_type": "markdown",
      "metadata": {
        "id": "45Q6RQoRoipM"
      },
      "source": [
        "## **Import Data Preprocessing Libraries**"
      ]
    },
    {
      "cell_type": "markdown",
      "metadata": {
        "id": "0BiQj_s2oipN"
      },
      "source": [
        "## **Load the KDD Cup 1999 Dataset**"
      ]
    },
    {
      "cell_type": "markdown",
      "metadata": {
        "id": "Njy04RMsoipO"
      },
      "source": [
        "## **Encode Category Columns**"
      ]
    },
    {
      "cell_type": "code",
      "execution_count": null,
      "metadata": {
        "id": "jNGKf-7UoipP"
      },
      "outputs": [],
      "source": [
        "categorical_encoders = {}\n",
        "\n",
        "categorical_columns = ['protocol_type', 'service', 'flag']\n",
        "\n",
        "for column_name in categorical_columns:\n",
        "    encoder = LabelEncoder()\n",
        "    data[column_name] = encoder.fit_transform(data[column_name])"
      ]
    },
    {
      "cell_type": "code",
      "execution_count": null,
      "metadata": {
        "id": "3Ypl9eMloipQ"
      },
      "outputs": [],
      "source": [
        "url = \"http://kdd.ics.uci.edu/databases/kddcup99/kddcup.data.gz\"\n",
        "column_names = [\n",
        "    \"duration\",\"protocol_type\",\"service\",\"flag\",\"src_bytes\",\"dst_bytes\",\"land\",\"wrong_fragment\",\n",
        "    \"urgent\",\"hot\",\"num_failed_logins\",\"logged_in\",\"num_compromised\",\"root_shell\",\"su_attempted\",\n",
        "    \"num_root\",\"num_file_creations\",\"num_shells\",\"num_access_files\",\"num_outbound_cmds\",\n",
        "    \"is_host_login\",\"is_guest_login\",\"count\",\"srv_count\",\"serror_rate\",\"srv_serror_rate\",\n",
        "    \"rerror_rate\",\"srv_rerror_rate\",\"same_srv_rate\",\"diff_srv_rate\",\"srv_diff_host_rate\",\n",
        "    \"dst_host_count\",\"dst_host_srv_count\",\"dst_host_same_srv_rate\",\"dst_host_diff_srv_rate\",\n",
        "    \"dst_host_same_src_port_rate\",\"dst_host_srv_diff_host_rate\",\"dst_host_serror_rate\",\n",
        "    \"dst_host_srv_serror_rate\",\"dst_host_rerror_rate\",\"dst_host_srv_rerror_rate\",\"label\"\n",
        "]\n",
        "data = pd.read_csv(url, header=None, names=column_names)"
      ]
    },
    {
      "cell_type": "code",
      "execution_count": null,
      "metadata": {
        "id": "3ZRELVlroipR"
      },
      "outputs": [],
      "source": [
        "import pandas as pd\n",
        "from sklearn.preprocessing import LabelEncoder, StandardScaler\n",
        "from sklearn.model_selection import train_test_split"
      ]
    },
    {
      "cell_type": "markdown",
      "metadata": {
        "id": "vAcQspjWUAZo"
      },
      "source": [
        "# **XGBoost Method (TP074553)**"
      ]
    },
    {
      "cell_type": "markdown",
      "source": [
        "## **Preparing and Loading The Dataset**"
      ],
      "metadata": {
        "id": "RwxXHwBeJq3K"
      }
    },
    {
      "cell_type": "code",
      "execution_count": null,
      "metadata": {
        "id": "KtQT1r6sJCv5"
      },
      "outputs": [],
      "source": [
        "import pandas as pd\n",
        "from sklearn.preprocessing import LabelEncoder, StandardScaler\n",
        "from sklearn.model_selection import train_test_split\n",
        "\n",
        "# Load the KDD Cup 1999 training data\n",
        "url = \"http://kdd.ics.uci.edu/databases/kddcup99/kddcup.data.gz\"\n",
        "kddcup_column_names = [\n",
        "    \"duration\",\"protocol_type\",\"service\",\"flag\",\"src_bytes\",\"dst_bytes\",\"land\",\"wrong_fragment\",\n",
        "    \"urgent\",\"hot\",\"num_failed_logins\",\"logged_in\",\"num_compromised\",\"root_shell\",\"su_attempted\",\n",
        "    \"num_root\",\"num_file_creations\",\"num_shells\",\"num_access_files\",\"num_outbound_cmds\",\n",
        "    \"is_host_login\",\"is_guest_login\",\"count\",\"srv_count\",\"serror_rate\",\"srv_serror_rate\",\n",
        "    \"rerror_rate\",\"srv_rerror_rate\",\"same_srv_rate\",\"diff_srv_rate\",\"srv_diff_host_rate\",\n",
        "    \"dst_host_count\",\"dst_host_srv_count\",\"dst_host_same_srv_rate\",\"dst_host_diff_srv_rate\",\n",
        "    \"dst_host_same_src_port_rate\",\"dst_host_srv_diff_host_rate\",\"dst_host_serror_rate\",\n",
        "    \"dst_host_srv_serror_rate\",\"dst_host_rerror_rate\",\"dst_host_srv_rerror_rate\",\"label\"\n",
        "]\n",
        "kddcup_data = pd.read_csv(url, header=None, names=kddcup_column_names)"
      ]
    },
    {
      "cell_type": "markdown",
      "source": [
        "## **Encoding Categorical Columns**"
      ],
      "metadata": {
        "id": "jRuXBQmJLnpp"
      }
    },
    {
      "cell_type": "code",
      "source": [
        "# Encode categorical columns (protocol_type, service, and flag)\n",
        "label_encoders = {}\n",
        "for column in ['protocol_type', 'service', 'flag']:\n",
        "    le = LabelEncoder()\n",
        "    kddcup_data[column] = le.fit_transform(kddcup_data[column])\n",
        "    label_encoders[column] = le"
      ],
      "metadata": {
        "id": "DchTikqkLsEo"
      },
      "execution_count": null,
      "outputs": []
    },
    {
      "cell_type": "code",
      "source": [
        "# Normalize features\n",
        "scaler = StandardScaler()\n",
        "kddcup_features_scaled = scaler.fit_transform(kddcup_features)"
      ],
      "metadata": {
        "id": "yijaRqYxMYni"
      },
      "execution_count": null,
      "outputs": []
    },
    {
      "cell_type": "markdown",
      "source": [
        "## **Convert The Labels To Binary**\n"
      ],
      "metadata": {
        "id": "ayOIDHemLvur"
      }
    },
    {
      "cell_type": "code",
      "source": [
        "# Convert the outcome labels (normal vs anomaly)\n",
        "kddcup_data['label'] = kddcup_data['label'].apply(lambda x: 1 if x == 'normal.' else 0)"
      ],
      "metadata": {
        "id": "lXQlISOzL00c"
      },
      "execution_count": null,
      "outputs": []
    },
    {
      "cell_type": "markdown",
      "source": [
        "## **Splitting Data into Features and Target Variable**"
      ],
      "metadata": {
        "id": "TGhPhoEEMD40"
      }
    },
    {
      "cell_type": "code",
      "source": [
        "# Split into features and target\n",
        "kddcup_features = kddcup_data.drop(columns=['label'])\n",
        "kddcup_target = kddcup_data['label']"
      ],
      "metadata": {
        "id": "vlFpRTpxMHjl"
      },
      "execution_count": null,
      "outputs": []
    },
    {
      "cell_type": "markdown",
      "source": [
        "## **Normalize The Features**"
      ],
      "metadata": {
        "id": "kn7HvsccMVoN"
      }
    },
    {
      "cell_type": "code",
      "source": [
        "# Normalize features\n",
        "scaler = StandardScaler()\n",
        "kddcup_features_scaled = scaler.fit_transform(kddcup_features)"
      ],
      "metadata": {
        "id": "OmQKIdxbpf4m"
      },
      "execution_count": null,
      "outputs": []
    },
    {
      "cell_type": "markdown",
      "source": [
        "## **Splitting Data into Training and Test Sets**"
      ],
      "metadata": {
        "id": "cKgE5PSeMggK"
      }
    },
    {
      "cell_type": "code",
      "source": [
        "# Split into training and test sets\n",
        "kddcup_features_train, kddcup_features_test, kddcup_target_train, kddcup_target_test = train_test_split(kddcup_features_scaled, kddcup_target, test_size=0.2, random_state=6429)"
      ],
      "metadata": {
        "id": "lQECE0KhNDy9"
      },
      "execution_count": null,
      "outputs": []
    }
  ],
  "metadata": {
    "colab": {
      "provenance": []
    },
    "kernelspec": {
      "display_name": "Python 3",
      "name": "python3"
    },
    "language_info": {
      "name": "python"
    }
  },
  "nbformat": 4,
  "nbformat_minor": 0
}
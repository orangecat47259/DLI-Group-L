{
  "cells": [
    {
      "cell_type": "markdown",
      "metadata": {
        "id": "vL8X4lCYoipA"
      },
      "source": [
        "# **Naive Bayes Method (TP073767)**"
      ]
    },
    {
      "cell_type": "code",
      "execution_count": null,
      "metadata": {
        "id": "nzF2lQr9oipD"
      },
      "outputs": [],
      "source": [
        "#Import the Libraries\n",
        "import pandas as pd\n",
        "from sklearn.preprocessing import LabelEncoder, StandardScaler\n",
        "from sklearn.model_selection import train_test_split"
      ]
    },
    {
      "cell_type": "code",
      "execution_count": null,
      "metadata": {
        "id": "Qk7_Fph1oipG"
      },
      "outputs": [],
      "source": [
        "#Load Dataset\n",
        "# Load the KDD Cup 1999 training data\n",
        "url = \"http://kdd.ics.uci.edu/databases/kddcup99/kddcup.data.gz\"\n",
        "column_names = [\n",
        "    \"duration\",\"protocol_type\",\"service\",\"flag\",\"src_bytes\",\"dst_bytes\",\"land\",\"wrong_fragment\",\n",
        "    \"urgent\",\"hot\",\"num_failed_logins\",\"logged_in\",\"num_compromised\",\"root_shell\",\"su_attempted\",\n",
        "    \"num_root\",\"num_file_creations\",\"num_shells\",\"num_access_files\",\"num_outbound_cmds\",\n",
        "    \"is_host_login\",\"is_guest_login\",\"count\",\"srv_count\",\"serror_rate\",\"srv_serror_rate\",\n",
        "    \"rerror_rate\",\"srv_rerror_rate\",\"same_srv_rate\",\"diff_srv_rate\",\"srv_diff_host_rate\",\n",
        "    \"dst_host_count\",\"dst_host_srv_count\",\"dst_host_same_srv_rate\",\"dst_host_diff_srv_rate\",\n",
        "    \"dst_host_same_src_port_rate\",\"dst_host_srv_diff_host_rate\",\"dst_host_serror_rate\",\n",
        "    \"dst_host_srv_serror_rate\",\"dst_host_rerror_rate\",\"dst_host_srv_rerror_rate\",\"label\"\n",
        "]\n",
        "data = pd.read_csv(url, header=None, names=column_names)"
      ]
    },
    {
      "cell_type": "markdown",
      "metadata": {
        "id": "9J9HrE-LEz6e"
      },
      "source": [
        "## **Encode Category Columns**"
      ]
    },
    {
      "cell_type": "code",
      "execution_count": null,
      "metadata": {
        "id": "9a0BT7fOEz6g"
      },
      "outputs": [],
      "source": [
        "categorical_encoders = {}\n",
        "\n",
        "categorical_columns = ['protocol_type', 'service', 'flag']\n",
        "\n",
        "for column_name in categorical_columns:\n",
        "    encoder = LabelEncoder()\n",
        "    data[column_name] = encoder.fit_transform(data[column_name])"
      ]
    },
    {
      "cell_type": "markdown",
      "metadata": {
        "id": "vaPeiia7Ez6h"
      },
      "source": [
        "## **Encode Labels**"
      ]
    },
    {
      "cell_type": "code",
      "execution_count": null,
      "metadata": {
        "id": "mX6FvkwgEz6h"
      },
      "outputs": [],
      "source": [
        "data['label'] = data['label'].apply(lambda x: 1 if x == 'normal.' else 0)\n",
        "\n",
        "X = data.drop(columns=['label'])\n",
        "y = data['label']"
      ]
    },
    {
      "cell_type": "markdown",
      "metadata": {
        "id": "ycTz0vw_Ez6i"
      },
      "source": [
        "## **Load the KDD Cup 1999 Dataset**"
      ]
    },
    {
      "cell_type": "code",
      "execution_count": null,
      "metadata": {
        "id": "G_RwHaupoipK"
      },
      "outputs": [],
      "source": [
        "url = \"http://kdd.ics.uci.edu/databases/kddcup99/kddcup.data.gz\"\n",
        "column_names = [\n",
        "    \"duration\",\"protocol_type\",\"service\",\"flag\",\"src_bytes\",\"dst_bytes\",\"land\",\"wrong_fragment\",\n",
        "    \"urgent\",\"hot\",\"num_failed_logins\",\"logged_in\",\"num_compromised\",\"root_shell\",\"su_attempted\",\n",
        "    \"num_root\",\"num_file_creations\",\"num_shells\",\"num_access_files\",\"num_outbound_cmds\",\n",
        "    \"is_host_login\",\"is_guest_login\",\"count\",\"srv_count\",\"serror_rate\",\"srv_serror_rate\",\n",
        "    \"rerror_rate\",\"srv_rerror_rate\",\"same_srv_rate\",\"diff_srv_rate\",\"srv_diff_host_rate\",\n",
        "    \"dst_host_count\",\"dst_host_srv_count\",\"dst_host_same_srv_rate\",\"dst_host_diff_srv_rate\",\n",
        "    \"dst_host_same_src_port_rate\",\"dst_host_srv_diff_host_rate\",\"dst_host_serror_rate\",\n",
        "    \"dst_host_srv_serror_rate\",\"dst_host_rerror_rate\",\"dst_host_srv_rerror_rate\",\"label\"\n",
        "]\n",
        "data = pd.read_csv(url, header=None, names=column_names)"
      ]
    },
    {
      "cell_type": "markdown",
      "metadata": {
        "id": "EQIDcZpcoipL"
      },
      "source": [
        "# **Neural Network Method (TP074300)**"
      ]
    },
    {
      "cell_type": "markdown",
      "metadata": {
        "id": "QMY6Q_B4Ez6l"
      },
      "source": [
        "## **Import the Libraries**"
      ]
    },
    {
      "cell_type": "code",
      "execution_count": null,
      "metadata": {
        "id": "5zKp6sQXEz6m"
      },
      "outputs": [],
      "source": [
        "import pandas as pd\n",
        "from sklearn.preprocessing import LabelEncoder, StandardScaler\n",
        "from sklearn.model_selection import train_test_split"
      ]
    },
    {
      "cell_type": "markdown",
      "metadata": {
        "id": "9h2-f1KlEz6m"
      },
      "source": [
        "## **Load the Correct Dataset**"
      ]
    },
    {
      "cell_type": "code",
      "execution_count": null,
      "metadata": {
        "id": "wtFsDxTgEz6n"
      },
      "outputs": [],
      "source": [
        "url = \"http://kdd.ics.uci.edu/databases/kddcup99/kddcup.data.gz\"\n",
        "column_names = [\n",
        "    \"duration\",\"protocol_type\",\"service\",\"flag\",\"src_bytes\",\"dst_bytes\",\"land\",\"wrong_fragment\",\n",
        "    \"urgent\",\"hot\",\"num_failed_logins\",\"logged_in\",\"num_compromised\",\"root_shell\",\"su_attempted\",\n",
        "    \"num_root\",\"num_file_creations\",\"num_shells\",\"num_access_files\",\"num_outbound_cmds\",\n",
        "    \"is_host_login\",\"is_guest_login\",\"count\",\"srv_count\",\"serror_rate\",\"srv_serror_rate\",\n",
        "    \"rerror_rate\",\"srv_rerror_rate\",\"same_srv_rate\",\"diff_srv_rate\",\"srv_diff_host_rate\",\n",
        "    \"dst_host_count\",\"dst_host_srv_count\",\"dst_host_same_srv_rate\",\"dst_host_diff_srv_rate\",\n",
        "    \"dst_host_same_src_port_rate\",\"dst_host_srv_diff_host_rate\",\"dst_host_serror_rate\",\n",
        "    \"dst_host_srv_serror_rate\",\"dst_host_rerror_rate\",\"dst_host_srv_rerror_rate\",\"label\"\n",
        "]\n",
        "data = pd.read_csv(url, header=None, names=column_names)"
      ]
    },
    {
      "cell_type": "markdown",
      "metadata": {
        "id": "RZk6cBENoipI"
      },
      "source": [
        "# **Logistic Regression Method (TP074301)**"
      ]
    },
    {
      "cell_type": "markdown",
      "metadata": {
        "id": "bnHjN0rAoipJ"
      },
      "source": [
        "## **Import the Libraries**"
      ]
    },
    {
      "cell_type": "code",
      "execution_count": null,
      "metadata": {
        "id": "KZUFvZuhEz6o"
      },
      "outputs": [],
      "source": [
        "import pandas as pd\n",
        "from sklearn.preprocessing import LabelEncoder, StandardScaler\n",
        "from sklearn.model_selection import train_test_split"
      ]
    },
    {
      "cell_type": "markdown",
      "metadata": {
        "id": "0BiQj_s2oipN"
      },
      "source": [
        "## **Load the KDD Cup 1999 Dataset**"
      ]
    },
    {
      "cell_type": "code",
      "execution_count": null,
      "metadata": {
        "id": "0GJz6PwKEz6p"
      },
      "outputs": [],
      "source": [
        "url = \"http://kdd.ics.uci.edu/databases/kddcup99/kddcup.data.gz\"\n",
        "column_names = [\n",
        "    \"duration\",\"protocol_type\",\"service\",\"flag\",\"src_bytes\",\"dst_bytes\",\"land\",\"wrong_fragment\",\n",
        "    \"urgent\",\"hot\",\"num_failed_logins\",\"logged_in\",\"num_compromised\",\"root_shell\",\"su_attempted\",\n",
        "    \"num_root\",\"num_file_creations\",\"num_shells\",\"num_access_files\",\"num_outbound_cmds\",\n",
        "    \"is_host_login\",\"is_guest_login\",\"count\",\"srv_count\",\"serror_rate\",\"srv_serror_rate\",\n",
        "    \"rerror_rate\",\"srv_rerror_rate\",\"same_srv_rate\",\"diff_srv_rate\",\"srv_diff_host_rate\",\n",
        "    \"dst_host_count\",\"dst_host_srv_count\",\"dst_host_same_srv_rate\",\"dst_host_diff_srv_rate\",\n",
        "    \"dst_host_same_src_port_rate\",\"dst_host_srv_diff_host_rate\",\"dst_host_serror_rate\",\n",
        "    \"dst_host_srv_serror_rate\",\"dst_host_rerror_rate\",\"dst_host_srv_rerror_rate\",\"label\"\n",
        "]\n",
        "data = pd.read_csv(url, header=None, names=column_names)"
      ]
    },
    {
      "cell_type": "markdown",
      "metadata": {
        "id": "Njy04RMsoipO"
      },
      "source": [
        "## **Encode Category Columns**"
      ]
    },
    {
      "cell_type": "code",
      "execution_count": null,
      "metadata": {
        "id": "y1yZJpsEEz6q"
      },
      "outputs": [],
      "source": [
        "categorical_encoders = {}\n",
        "\n",
        "categorical_columns = ['protocol_type', 'service', 'flag']\n",
        "\n",
        "for column_name in categorical_columns:\n",
        "    encoder = LabelEncoder()\n",
        "    data[column_name] = encoder.fit_transform(data[column_name])"
      ]
    },
    {
      "cell_type": "markdown",
      "metadata": {
        "id": "Az2bvf4GEz6r"
      },
      "source": [
        "## **Encode Labels**"
      ]
    },
    {
      "cell_type": "code",
      "execution_count": null,
      "metadata": {
        "id": "zKLvKXZfEz6r"
      },
      "outputs": [],
      "source": [
        "data['label'] = data['label'].apply(lambda x: 1 if x == 'normal.' else 0)\n",
        "\n",
        "X = data.drop(columns=['label'])\n",
        "y = data['label']"
      ]
    },
    {
      "cell_type": "markdown",
      "metadata": {
        "id": "a7-NmSsNEz6r"
      },
      "source": [
        "## **Normalize Features**"
      ]
    },
    {
      "cell_type": "code",
      "execution_count": null,
      "metadata": {
        "id": "nU-MaJwjEz6r"
      },
      "outputs": [],
      "source": [
        "scaler = StandardScaler()\n",
        "X_scaled = scaler.fit_transform(X)"
      ]
    },
    {
      "cell_type": "markdown",
      "metadata": {
        "id": "ZpW7ym2JEz6s"
      },
      "source": [
        "## **Split Data for Train and Test and Set Random State**"
      ]
    },
    {
      "cell_type": "code",
      "execution_count": null,
      "metadata": {
        "id": "gaghdhSKEz6s"
      },
      "outputs": [],
      "source": [
        "X_train, X_test, y_train, y_test = train_test_split(X_scaled, y, test_size=0.2, random_state=42)"
      ]
    },
    {
      "cell_type": "markdown",
      "metadata": {
        "id": "dfbY5PhrEz6s"
      },
      "source": [
        "## **Set Model Hyperparameters and Train Model**"
      ]
    },
    {
      "cell_type": "code",
      "execution_count": null,
      "metadata": {
        "id": "KKq_IXc6Ez6t"
      },
      "outputs": [],
      "source": [
        "from sklearn.linear_model import LogisticRegression\n",
        "from sklearn.metrics import accuracy_score, confusion_matrix, classification_report\n",
        "\n",
        "log_reg = LogisticRegression(max_iter=1000, solver='lbfgs')\n",
        "log_reg.fit(X_train, y_train)"
      ]
    },
    {
      "cell_type": "markdown",
      "metadata": {
        "id": "wpCWbpk-Ez6u"
      },
      "source": [
        "## **Evaluate The Model with Test Data**"
      ]
    },
    {
      "cell_type": "code",
      "execution_count": null,
      "metadata": {
        "id": "uz9y5d7oEz6u"
      },
      "outputs": [],
      "source": [
        "y_pred = log_reg.predict(X_test)\n",
        "\n",
        "accuracy = accuracy_score(y_test, y_pred)\n",
        "conf_matrix = confusion_matrix(y_test, y_pred)\n",
        "class_report = classification_report(y_test, y_pred)\n",
        "\n",
        "print(f\"Accuracy: {accuracy:.4f}\")\n",
        "print(\"\\nConfusion Matrix:\")\n",
        "print(conf_matrix)\n",
        "print(\"\\nClassification Report:\")\n",
        "print(class_report)"
      ]
    },
    {
      "cell_type": "markdown",
      "metadata": {
        "id": "vAcQspjWUAZo"
      },
      "source": [
        "# **XGBoost Method (TP074553)**"
      ]
    },
    {
      "cell_type": "markdown",
      "metadata": {
        "id": "RwxXHwBeJq3K"
      },
      "source": [
        "## **Preparing and Loading The Dataset**"
      ]
    },
    {
      "cell_type": "code",
      "execution_count": null,
      "metadata": {
        "id": "KtQT1r6sJCv5"
      },
      "outputs": [],
      "source": [
        "import pandas as pd\n",
        "from sklearn.preprocessing import LabelEncoder, StandardScaler\n",
        "from sklearn.model_selection import train_test_split\n",
        "\n",
        "# Load the KDD Cup 1999 training data\n",
        "url = \"http://kdd.ics.uci.edu/databases/kddcup99/kddcup.data.gz\"\n",
        "kddcup_column_names = [\n",
        "    \"duration\",\"protocol_type\",\"service\",\"flag\",\"src_bytes\",\"dst_bytes\",\"land\",\"wrong_fragment\",\n",
        "    \"urgent\",\"hot\",\"num_failed_logins\",\"logged_in\",\"num_compromised\",\"root_shell\",\"su_attempted\",\n",
        "    \"num_root\",\"num_file_creations\",\"num_shells\",\"num_access_files\",\"num_outbound_cmds\",\n",
        "    \"is_host_login\",\"is_guest_login\",\"count\",\"srv_count\",\"serror_rate\",\"srv_serror_rate\",\n",
        "    \"rerror_rate\",\"srv_rerror_rate\",\"same_srv_rate\",\"diff_srv_rate\",\"srv_diff_host_rate\",\n",
        "    \"dst_host_count\",\"dst_host_srv_count\",\"dst_host_same_srv_rate\",\"dst_host_diff_srv_rate\",\n",
        "    \"dst_host_same_src_port_rate\",\"dst_host_srv_diff_host_rate\",\"dst_host_serror_rate\",\n",
        "    \"dst_host_srv_serror_rate\",\"dst_host_rerror_rate\",\"dst_host_srv_rerror_rate\",\"label\"\n",
        "]\n",
        "kddcup_data = pd.read_csv(url, header=None, names=kddcup_column_names)"
      ]
    },
    {
      "cell_type": "markdown",
      "metadata": {
        "id": "jRuXBQmJLnpp"
      },
      "source": [
        "## **Encoding Categorical Columns**"
      ]
    },
    {
      "cell_type": "code",
      "execution_count": null,
      "metadata": {
        "id": "DchTikqkLsEo"
      },
      "outputs": [],
      "source": [
        "# Encode categorical columns (protocol_type, service, and flag)\n",
        "label_encoders = {}\n",
        "for column in ['protocol_type', 'service', 'flag']:\n",
        "    le = LabelEncoder()\n",
        "    kddcup_data[column] = le.fit_transform(kddcup_data[column])\n",
        "    label_encoders[column] = le"
      ]
    },
    {
      "cell_type": "code",
      "execution_count": null,
      "metadata": {
        "id": "yijaRqYxMYni"
      },
      "outputs": [],
      "source": [
        "# Normalize features\n",
        "scaler = StandardScaler()\n",
        "kddcup_features_scaled = scaler.fit_transform(kddcup_features)"
      ]
    },
    {
      "cell_type": "markdown",
      "metadata": {
        "id": "ayOIDHemLvur"
      },
      "source": [
        "## **Convert The Labels To Binary**\n"
      ]
    },
    {
      "cell_type": "code",
      "execution_count": null,
      "metadata": {
        "id": "lXQlISOzL00c"
      },
      "outputs": [],
      "source": [
        "# Convert the outcome labels (normal vs anomaly)\n",
        "kddcup_data['label'] = kddcup_data['label'].apply(lambda x: 1 if x == 'normal.' else 0)"
      ]
    },
    {
      "cell_type": "markdown",
      "metadata": {
        "id": "TGhPhoEEMD40"
      },
      "source": [
        "## **Splitting Data into Features and Target Variable**"
      ]
    },
    {
      "cell_type": "code",
      "execution_count": null,
      "metadata": {
        "id": "vlFpRTpxMHjl"
      },
      "outputs": [],
      "source": [
        "# Split into features and target\n",
        "kddcup_features = kddcup_data.drop(columns=['label'])\n",
        "kddcup_target = kddcup_data['label']"
      ]
    },
    {
      "cell_type": "markdown",
      "metadata": {
        "id": "kn7HvsccMVoN"
      },
      "source": [
        "## **Normalize The Features**"
      ]
    },
    {
      "cell_type": "code",
      "execution_count": null,
      "metadata": {
        "id": "OmQKIdxbpf4m"
      },
      "outputs": [],
      "source": [
        "# Normalize features\n",
        "scaler = StandardScaler()\n",
        "kddcup_features_scaled = scaler.fit_transform(kddcup_features)"
      ]
    },
    {
      "cell_type": "markdown",
      "metadata": {
        "id": "cKgE5PSeMggK"
      },
      "source": [
        "## **Splitting Data into Training and Test Sets**"
      ]
    },
    {
      "cell_type": "code",
      "execution_count": null,
      "metadata": {
        "id": "lQECE0KhNDy9"
      },
      "outputs": [],
      "source": [
        "# Split into training and test sets\n",
        "kddcup_features_train, kddcup_features_test, kddcup_target_train, kddcup_target_test = train_test_split(kddcup_features_scaled, kddcup_target, test_size=0.2, random_state=6429)"
      ]
    },
    {
      "cell_type": "markdown",
      "source": [
        "## **Preparing XGBoost and Creating DMatrix**"
      ],
      "metadata": {
        "id": "Bjwvwee4NS0U"
      }
    },
    {
      "cell_type": "code",
      "source": [
        "import xgboost as xgb\n",
        "from sklearn.metrics import classification_report, accuracy_score\n",
        "\n",
        "# Create DMatrix for XGBoost\n",
        "kddcup_dtrain = xgb.DMatrix(kddcup_features_train, label=kddcup_target_train)\n",
        "kddcup_dtest = xgb.DMatrix(kddcup_features_test, label=kddcup_target_test)"
      ],
      "metadata": {
        "id": "qEIMzE25NQA8"
      },
      "execution_count": null,
      "outputs": []
    },
    {
      "cell_type": "markdown",
      "source": [
        "## **Set Up Parameters for Classification**"
      ],
      "metadata": {
        "id": "HEbEpgCLNlNB"
      }
    },
    {
      "cell_type": "code",
      "source": [
        "# Set up parameters for binary classification\n",
        "xgb_params = {\n",
        "    'objective': 'binary:logistic',  # binary classification\n",
        "    'eval_metric': 'logloss',        # evaluation metric\n",
        "    'use_label_encoder': False,\n",
        "    'seed': 6429\n",
        "}"
      ],
      "metadata": {
        "id": "Y32iaxatNvPD"
      },
      "execution_count": null,
      "outputs": []
    },
    {
      "cell_type": "markdown",
      "source": [
        "## **Train the XGBoost Model**"
      ],
      "metadata": {
        "id": "1-xL3HDlN4sR"
      }
    },
    {
      "cell_type": "code",
      "source": [
        "# Train the XGBoost model\n",
        "XGBModel = xgb.train(xgb_params, kddcup_dtrain, num_boost_round=100)"
      ],
      "metadata": {
        "id": "kwoRqk7_N6hB",
        "colab": {
          "base_uri": "https://localhost:8080/"
        },
        "outputId": "a2b0b90d-935c-4f02-e64d-7cd1607defae"
      },
      "execution_count": null,
      "outputs": [
        {
          "output_type": "stream",
          "name": "stderr",
          "text": [
            "/usr/local/lib/python3.11/dist-packages/xgboost/training.py:183: UserWarning: [15:33:28] WARNING: /workspace/src/learner.cc:738: \n",
            "Parameters: { \"use_label_encoder\" } are not used.\n",
            "\n",
            "  bst.update(dtrain, iteration=i, fobj=obj)\n"
          ]
        }
      ]
    },
    {
      "cell_type": "markdown",
      "source": [
        "## **Save the XGBoost Model**"
      ],
      "metadata": {
        "id": "9xj3EG0bI-8_"
      }
    },
    {
      "cell_type": "code",
      "source": [
        "import pickle\n",
        "\n",
        "with open('xgb_model.pkl', 'wb') as f:\n",
        "    pickle.dump(XGBModel, f)"
      ],
      "metadata": {
        "id": "5tvsxBoyJCbe"
      },
      "execution_count": null,
      "outputs": []
    },
    {
      "cell_type": "markdown",
      "source": [
        "## **Import the XGBoost Model**"
      ],
      "metadata": {
        "id": "J8fBCEMKJNoX"
      }
    },
    {
      "cell_type": "code",
      "source": [
        "with open('xgb_model.pkl', 'rb') as f:\n",
        "    XGBModel = pickle.load(f)"
      ],
      "metadata": {
        "id": "F_sPtLAYJLuy"
      },
      "execution_count": null,
      "outputs": []
    },
    {
      "cell_type": "markdown",
      "source": [
        "## **Predict and Evaluate on Test Data**"
      ],
      "metadata": {
        "id": "63fsNDI6N_lq"
      }
    },
    {
      "cell_type": "code",
      "source": [
        "# Predict on test set\n",
        "xgb_pred_prob = XGBModel.predict(kddcup_dtest)\n",
        "xgb_pred = (xgb_pred_prob > 0.5).astype(int)\n",
        "\n",
        "# Evaluate model performance\n",
        "print(\"Accuracy:\", accuracy_score(kddcup_target_test, xgb_pred))\n",
        "print(\"\\nClassification Report:\")\n",
        "print(classification_report(kddcup_target_test, xgb_pred, target_names=['Normal', 'Anomaly']))"
      ],
      "metadata": {
        "id": "NAIMqxNWOIw9",
        "colab": {
          "base_uri": "https://localhost:8080/"
        },
        "outputId": "e3dc3b4b-e2a8-40ed-81ea-5985c26d0f58"
      },
      "execution_count": null,
      "outputs": [
        {
          "output_type": "stream",
          "name": "stdout",
          "text": [
            "Accuracy: 0.9999734609114952\n",
            "\n",
            "Classification Report:\n",
            "              precision    recall  f1-score   support\n",
            "\n",
            "      Normal       1.00      1.00      1.00    785622\n",
            "     Anomaly       1.00      1.00      1.00    194065\n",
            "\n",
            "    accuracy                           1.00    979687\n",
            "   macro avg       1.00      1.00      1.00    979687\n",
            "weighted avg       1.00      1.00      1.00    979687\n",
            "\n"
          ]
        }
      ]
    },
    {
      "cell_type": "markdown",
      "source": [
        "## **Calculate Confusion Matrix**"
      ],
      "metadata": {
        "id": "3tj1Fpt1TOpK"
      }
    },
    {
      "cell_type": "code",
      "source": [
        "import matplotlib.pyplot as plt\n",
        "import seaborn as sns\n",
        "from sklearn.metrics import confusion_matrix\n",
        "\n",
        "# Compute confusion matrix\n",
        "cm = confusion_matrix(kddcup_target_test, xgb_pred)\n",
        "\n",
        "# Plot confusion matrix\n",
        "plt.figure(figsize=(6,5))\n",
        "sns.heatmap(cm, annot=True, fmt='d', cmap='Blues', xticklabels=['Normal', 'Anomaly'], yticklabels=['Normal', 'Anomaly'])\n",
        "plt.xlabel('Predicted')\n",
        "plt.ylabel('Actual')\n",
        "plt.title('Confusion Matrix')\n",
        "plt.show()"
      ],
      "metadata": {
        "id": "ztZTrvpQTSbX",
        "colab": {
          "base_uri": "https://localhost:8080/",
          "height": 487
        },
        "outputId": "0809020d-62f3-4ee5-8439-c1168df59d1c"
      },
      "execution_count": null,
      "outputs": [
        {
          "output_type": "display_data",
          "data": {
            "text/plain": [
              "<Figure size 600x500 with 2 Axes>"
            ],
            "image/png": "[encoded data removed]"
          },
          "metadata": {}
        }
      ]
    },
    {
      "cell_type": "markdown",
      "source": [
        "## **Calculate ROC and AUC**"
      ],
      "metadata": {
        "id": "tzUnvncHWazm"
      }
    },
    {
      "cell_type": "code",
      "source": [
        "import matplotlib.pyplot as plt\n",
        "from sklearn.metrics import roc_curve, roc_auc_score\n",
        "\n",
        "# Calculate ROC curve\n",
        "fpr, tpr, thresholds = roc_curve(kddcup_target_test, xgb_pred_prob)\n",
        "\n",
        "# Calculate AUC\n",
        "auc = roc_auc_score(kddcup_target_test, xgb_pred_prob)\n",
        "\n",
        "# Plot ROC curve\n",
        "plt.figure(figsize=(8, 6))\n",
        "plt.plot(fpr, tpr, color='b', label=f'ROC curve (AUC = {auc:.2f})')\n",
        "plt.plot([0, 1], [0, 1], color='r', linestyle='--')  # Random guess line\n",
        "plt.title('Receiver Operating Characteristic (ROC) Curve')\n",
        "plt.xlabel('False Positive Rate')\n",
        "plt.ylabel('True Positive Rate')\n",
        "plt.legend(loc='lower right')\n",
        "plt.grid(True)\n",
        "plt.show()\n",
        "\n",
        "# Print AUC score\n",
        "print(f\"AUC: {auc:.2f}\")"
      ],
      "metadata": {
        "id": "6UOe2wTTXhGu",
        "colab": {
          "base_uri": "https://localhost:8080/",
          "height": 582
        },
        "outputId": "69c0eac4-8ea2-4a28-f1ec-a00eebbcbd27"
      },
      "execution_count": null,
      "outputs": [
        {
          "output_type": "display_data",
          "data": {
            "text/plain": [
              "<Figure size 800x600 with 1 Axes>"
            ],
            "image/png": "[encoded data removed]"
          },
          "metadata": {}
        },
        {
          "output_type": "stream",
          "name": "stdout",
          "text": [
            "AUC: 1.00\n"
          ]
        }
      ]
    }
  ],
  "metadata": {
    "colab": {
      "provenance": []
    },
    "kernelspec": {
      "display_name": "Python 3",
      "name": "python3"
    },
    "language_info": {
      "name": "python"
    }
  },
  "nbformat": 4,
  "nbformat_minor": 0
}
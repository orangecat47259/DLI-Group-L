{
  "cells": [
    {
      "cell_type": "markdown",
      "metadata": {
        "id": "vL8X4lCYoipA"
      },
      "source": [
        "# **Naive Bayes Method (TP073767)**"
      ]
    },
    {
      "cell_type": "code",
      "execution_count": null,
      "metadata": {
        "id": "nzF2lQr9oipD"
      },
      "outputs": [],
      "source": [
        "#Import the Libraries\n",
        "import pandas as pd\n",
        "from sklearn.preprocessing import LabelEncoder, StandardScaler\n",
        "from sklearn.model_selection import train_test_split"
      ]
    },
    {
      "cell_type": "code",
      "execution_count": null,
      "metadata": {
        "id": "Qk7_Fph1oipG"
      },
      "outputs": [],
      "source": [
        "#Load Dataset\n",
        "# Load the KDD Cup 1999 training data\n",
        "url = \"http://kdd.ics.uci.edu/databases/kddcup99/kddcup.data.gz\"\n",
        "column_names = [\n",
        "    \"duration\",\"protocol_type\",\"service\",\"flag\",\"src_bytes\",\"dst_bytes\",\"land\",\"wrong_fragment\",\n",
        "    \"urgent\",\"hot\",\"num_failed_logins\",\"logged_in\",\"num_compromised\",\"root_shell\",\"su_attempted\",\n",
        "    \"num_root\",\"num_file_creations\",\"num_shells\",\"num_access_files\",\"num_outbound_cmds\",\n",
        "    \"is_host_login\",\"is_guest_login\",\"count\",\"srv_count\",\"serror_rate\",\"srv_serror_rate\",\n",
        "    \"rerror_rate\",\"srv_rerror_rate\",\"same_srv_rate\",\"diff_srv_rate\",\"srv_diff_host_rate\",\n",
        "    \"dst_host_count\",\"dst_host_srv_count\",\"dst_host_same_srv_rate\",\"dst_host_diff_srv_rate\",\n",
        "    \"dst_host_same_src_port_rate\",\"dst_host_srv_diff_host_rate\",\"dst_host_serror_rate\",\n",
        "    \"dst_host_srv_serror_rate\",\"dst_host_rerror_rate\",\"dst_host_srv_rerror_rate\",\"label\"\n",
        "]\n",
        "data = pd.read_csv(url, header=None, names=column_names)"
      ]
    },
    {
      "cell_type": "code",
      "execution_count": null,
      "metadata": {},
      "outputs": [],
      "source": [
        "import pandas as pd\n",
        "from sklearn.preprocessing import LabelEncoder, StandardScaler\n",
        "from sklearn.model_selection import train_test_split"
      ]
    },
    {
      "cell_type": "markdown",
      "metadata": {},
      "source": [
        "## **Load the KDD Cup 1999 Dataset**"
      ]
    },
    {
      "cell_type": "code",
      "execution_count": null,
      "metadata": {
        "id": "G_RwHaupoipK"
      },
      "outputs": [],
      "source": [
        "url = \"http://kdd.ics.uci.edu/databases/kddcup99/kddcup.data.gz\"\n",
        "column_names = [\n",
        "    \"duration\",\"protocol_type\",\"service\",\"flag\",\"src_bytes\",\"dst_bytes\",\"land\",\"wrong_fragment\",\n",
        "    \"urgent\",\"hot\",\"num_failed_logins\",\"logged_in\",\"num_compromised\",\"root_shell\",\"su_attempted\",\n",
        "    \"num_root\",\"num_file_creations\",\"num_shells\",\"num_access_files\",\"num_outbound_cmds\",\n",
        "    \"is_host_login\",\"is_guest_login\",\"count\",\"srv_count\",\"serror_rate\",\"srv_serror_rate\",\n",
        "    \"rerror_rate\",\"srv_rerror_rate\",\"same_srv_rate\",\"diff_srv_rate\",\"srv_diff_host_rate\",\n",
        "    \"dst_host_count\",\"dst_host_srv_count\",\"dst_host_same_srv_rate\",\"dst_host_diff_srv_rate\",\n",
        "    \"dst_host_same_src_port_rate\",\"dst_host_srv_diff_host_rate\",\"dst_host_serror_rate\",\n",
        "    \"dst_host_srv_serror_rate\",\"dst_host_rerror_rate\",\"dst_host_srv_rerror_rate\",\"label\"\n",
        "]\n",
        "data = pd.read_csv(url, header=None, names=column_names)"
      ]
    },
    {
      "cell_type": "markdown",
      "metadata": {
        "id": "EQIDcZpcoipL"
      },
      "source": [
        "# **Neural Network Method (TP074300)**"
      ]
    },
    {
      "cell_type": "markdown",
      "metadata": {
        "id": "RZk6cBENoipI"
      },
      "source": [
        "# **Logistic Regression Method (TP074301)**"
      ]
    },
    {
      "cell_type": "markdown",
      "metadata": {
        "id": "bnHjN0rAoipJ"
      },
      "source": [
        "## **Import the Libraries**"
      ]
    },
    {
      "cell_type": "code",
      "execution_count": null,
      "metadata": {},
      "outputs": [],
      "source": [
        "import pandas as pd\n",
        "from sklearn.preprocessing import LabelEncoder, StandardScaler\n",
        "from sklearn.model_selection import train_test_split"
      ]
    },
    {
      "cell_type": "markdown",
      "metadata": {
        "id": "0BiQj_s2oipN"
      },
      "source": [
        "## **Load the KDD Cup 1999 Dataset**"
      ]
    },
    {
      "cell_type": "code",
      "execution_count": null,
      "metadata": {},
      "outputs": [],
      "source": [
        "url = \"http://kdd.ics.uci.edu/databases/kddcup99/kddcup.data.gz\"\n",
        "column_names = [\n",
        "    \"duration\",\"protocol_type\",\"service\",\"flag\",\"src_bytes\",\"dst_bytes\",\"land\",\"wrong_fragment\",\n",
        "    \"urgent\",\"hot\",\"num_failed_logins\",\"logged_in\",\"num_compromised\",\"root_shell\",\"su_attempted\",\n",
        "    \"num_root\",\"num_file_creations\",\"num_shells\",\"num_access_files\",\"num_outbound_cmds\",\n",
        "    \"is_host_login\",\"is_guest_login\",\"count\",\"srv_count\",\"serror_rate\",\"srv_serror_rate\",\n",
        "    \"rerror_rate\",\"srv_rerror_rate\",\"same_srv_rate\",\"diff_srv_rate\",\"srv_diff_host_rate\",\n",
        "    \"dst_host_count\",\"dst_host_srv_count\",\"dst_host_same_srv_rate\",\"dst_host_diff_srv_rate\",\n",
        "    \"dst_host_same_src_port_rate\",\"dst_host_srv_diff_host_rate\",\"dst_host_serror_rate\",\n",
        "    \"dst_host_srv_serror_rate\",\"dst_host_rerror_rate\",\"dst_host_srv_rerror_rate\",\"label\"\n",
        "]\n",
        "data = pd.read_csv(url, header=None, names=column_names)"
      ]
    },
    {
      "cell_type": "markdown",
      "metadata": {
        "id": "Njy04RMsoipO"
      },
      "source": [
        "## **Encode Category Columns**"
      ]
    },
    {
      "cell_type": "code",
      "execution_count": null,
      "metadata": {},
      "outputs": [],
      "source": [
        "categorical_encoders = {}\n",
        "\n",
        "categorical_columns = ['protocol_type', 'service', 'flag']\n",
        "\n",
        "for column_name in categorical_columns:\n",
        "    encoder = LabelEncoder()\n",
        "    data[column_name] = encoder.fit_transform(data[column_name])"
      ]
    },
    {
      "cell_type": "markdown",
      "metadata": {},
      "source": [
        "## **Encode Labels**"
      ]
    },
    {
      "cell_type": "code",
      "execution_count": null,
      "metadata": {},
      "outputs": [],
      "source": [
        "data['label'] = data['label'].apply(lambda x: 1 if x == 'normal.' else 0)\n",
        "\n",
        "X = data.drop(columns=['label'])\n",
        "y = data['label']"
      ]
    },
    {
      "cell_type": "markdown",
      "metadata": {},
      "source": [
        "## **Normalize Features**"
      ]
    },
    {
      "cell_type": "code",
      "execution_count": null,
      "metadata": {},
      "outputs": [],
      "source": [
        "scaler = StandardScaler()\n",
        "X_scaled = scaler.fit_transform(X)"
      ]
    },
    {
      "cell_type": "markdown",
      "metadata": {},
      "source": [
        "## **Split Data for Train and Test and Set Random State**"
      ]
    },
    {
      "cell_type": "code",
      "execution_count": null,
      "metadata": {},
      "outputs": [],
      "source": [
        "X_train, X_test, y_train, y_test = train_test_split(X_scaled, y, test_size=0.2, random_state=42)"
      ]
    },
    {
      "cell_type": "markdown",
      "metadata": {},
      "source": [
        "## **Set Model Hyperparameters and Train Model**"
      ]
    },
    {
      "cell_type": "code",
      "execution_count": null,
      "metadata": {},
      "outputs": [],
      "source": [
        "from sklearn.linear_model import LogisticRegression\n",
        "from sklearn.metrics import accuracy_score, confusion_matrix, classification_report\n",
        "\n",
        "log_reg = LogisticRegression(max_iter=1000, solver='lbfgs')\n",
        "log_reg.fit(X_train, y_train)"
      ]
    },
    {
      "cell_type": "markdown",
      "metadata": {},
      "source": [
        "## **Evaluate The Model with Test Data**"
      ]
    },
    {
      "cell_type": "code",
      "execution_count": null,
      "metadata": {},
      "outputs": [],
      "source": [
        "y_pred = log_reg.predict(X_test)\n",
        "\n",
        "accuracy = accuracy_score(y_test, y_pred)\n",
        "conf_matrix = confusion_matrix(y_test, y_pred)\n",
        "class_report = classification_report(y_test, y_pred)\n",
        "\n",
        "print(f\"Accuracy: {accuracy:.4f}\")\n",
        "print(\"\\nConfusion Matrix:\")\n",
        "print(conf_matrix)\n",
        "print(\"\\nClassification Report:\")\n",
        "print(class_report)"
      ]
    },
    {
      "cell_type": "markdown",
      "metadata": {
        "id": "vAcQspjWUAZo"
      },
      "source": [
        "# **XGBoost Method (TP074553)**"
      ]
    },
    {
      "cell_type": "markdown",
      "metadata": {
        "id": "RwxXHwBeJq3K"
      },
      "source": [
        "## **Preparing and Loading The Dataset**"
      ]
    },
    {
      "cell_type": "code",
      "execution_count": null,
      "metadata": {
        "id": "KtQT1r6sJCv5"
      },
      "outputs": [],
      "source": [
        "import pandas as pd\n",
        "from sklearn.preprocessing import LabelEncoder, StandardScaler\n",
        "from sklearn.model_selection import train_test_split\n",
        "\n",
        "# Load the KDD Cup 1999 training data\n",
        "url = \"http://kdd.ics.uci.edu/databases/kddcup99/kddcup.data.gz\"\n",
        "kddcup_column_names = [\n",
        "    \"duration\",\"protocol_type\",\"service\",\"flag\",\"src_bytes\",\"dst_bytes\",\"land\",\"wrong_fragment\",\n",
        "    \"urgent\",\"hot\",\"num_failed_logins\",\"logged_in\",\"num_compromised\",\"root_shell\",\"su_attempted\",\n",
        "    \"num_root\",\"num_file_creations\",\"num_shells\",\"num_access_files\",\"num_outbound_cmds\",\n",
        "    \"is_host_login\",\"is_guest_login\",\"count\",\"srv_count\",\"serror_rate\",\"srv_serror_rate\",\n",
        "    \"rerror_rate\",\"srv_rerror_rate\",\"same_srv_rate\",\"diff_srv_rate\",\"srv_diff_host_rate\",\n",
        "    \"dst_host_count\",\"dst_host_srv_count\",\"dst_host_same_srv_rate\",\"dst_host_diff_srv_rate\",\n",
        "    \"dst_host_same_src_port_rate\",\"dst_host_srv_diff_host_rate\",\"dst_host_serror_rate\",\n",
        "    \"dst_host_srv_serror_rate\",\"dst_host_rerror_rate\",\"dst_host_srv_rerror_rate\",\"label\"\n",
        "]\n",
        "kddcup_data = pd.read_csv(url, header=None, names=kddcup_column_names)"
      ]
    },
    {
      "cell_type": "markdown",
      "metadata": {
        "id": "jRuXBQmJLnpp"
      },
      "source": [
        "## **Encoding Categorical Columns**"
      ]
    },
    {
      "cell_type": "code",
      "execution_count": null,
      "metadata": {
        "id": "DchTikqkLsEo"
      },
      "outputs": [],
      "source": [
        "# Encode categorical columns (protocol_type, service, and flag)\n",
        "label_encoders = {}\n",
        "for column in ['protocol_type', 'service', 'flag']:\n",
        "    le = LabelEncoder()\n",
        "    kddcup_data[column] = le.fit_transform(kddcup_data[column])\n",
        "    label_encoders[column] = le"
      ]
    },
    {
      "cell_type": "code",
      "execution_count": null,
      "metadata": {
        "id": "yijaRqYxMYni"
      },
      "outputs": [],
      "source": [
        "# Normalize features\n",
        "scaler = StandardScaler()\n",
        "kddcup_features_scaled = scaler.fit_transform(kddcup_features)"
      ]
    },
    {
      "cell_type": "markdown",
      "metadata": {
        "id": "ayOIDHemLvur"
      },
      "source": [
        "## **Convert The Labels To Binary**\n"
      ]
    },
    {
      "cell_type": "code",
      "execution_count": null,
      "metadata": {
        "id": "lXQlISOzL00c"
      },
      "outputs": [],
      "source": [
        "# Convert the outcome labels (normal vs anomaly)\n",
        "kddcup_data['label'] = kddcup_data['label'].apply(lambda x: 1 if x == 'normal.' else 0)"
      ]
    },
    {
      "cell_type": "markdown",
      "metadata": {
        "id": "TGhPhoEEMD40"
      },
      "source": [
        "## **Splitting Data into Features and Target Variable**"
      ]
    },
    {
      "cell_type": "code",
      "execution_count": null,
      "metadata": {
        "id": "vlFpRTpxMHjl"
      },
      "outputs": [],
      "source": [
        "# Split into features and target\n",
        "kddcup_features = kddcup_data.drop(columns=['label'])\n",
        "kddcup_target = kddcup_data['label']"
      ]
    },
    {
      "cell_type": "markdown",
      "metadata": {
        "id": "kn7HvsccMVoN"
      },
      "source": [
        "## **Normalize The Features**"
      ]
    },
    {
      "cell_type": "code",
      "execution_count": null,
      "metadata": {
        "id": "OmQKIdxbpf4m"
      },
      "outputs": [],
      "source": [
        "# Normalize features\n",
        "scaler = StandardScaler()\n",
        "kddcup_features_scaled = scaler.fit_transform(kddcup_features)"
      ]
    },
    {
      "cell_type": "markdown",
      "metadata": {
        "id": "cKgE5PSeMggK"
      },
      "source": [
        "## **Splitting Data into Training and Test Sets**"
      ]
    },
    {
      "cell_type": "code",
      "execution_count": null,
      "metadata": {
        "id": "lQECE0KhNDy9"
      },
      "outputs": [],
      "source": [
        "# Split into training and test sets\n",
        "kddcup_features_train, kddcup_features_test, kddcup_target_train, kddcup_target_test = train_test_split(kddcup_features_scaled, kddcup_target, test_size=0.2, random_state=6429)"
      ]
    }
  ],
  "metadata": {
    "colab": {
      "provenance": []
    },
    "kernelspec": {
      "display_name": "Python 3",
      "name": "python3"
    },
    "language_info": {
      "name": "python"
    }
  },
  "nbformat": 4,
  "nbformat_minor": 0
}
